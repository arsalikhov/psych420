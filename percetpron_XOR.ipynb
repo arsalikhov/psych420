{
 "cells": [
  {
   "cell_type": "markdown",
   "metadata": {},
   "source": [
    "## XOR truth table\n",
    "\n",
    "| Input 1 | Input 2 | Output |\n",
    "| --- | --- | --- |\n",
    "| 0 | 0 | 0 |\n",
    "| 1 | 0 | 1 |\n",
    "| 0 | 1 | 1 |\n",
    "| 1 | 1 | 0 |"
   ]
  },
  {
   "cell_type": "code",
   "execution_count": 80,
   "metadata": {},
   "outputs": [
    {
     "name": "stdout",
     "output_type": "stream",
     "text": [
      "[0, 1, 1]\n",
      "0\n",
      "[1, 1, 1]\n",
      "1\n",
      "[1, 1, 1]\n",
      "1\n",
      "[1, 0, 1]\n",
      "0\n"
     ]
    }
   ],
   "source": [
    "import numpy as np\n",
    "\n",
    "wor   = [.3,.3,0]\n",
    "wand  = [.4,.4,-.5]\n",
    "wnand = [-.2,-.2,.4]\n",
    "wdict = {'or':wor,'and':wand,'nand':wnand}\n",
    "inputs = [[0,0,1],[0,1,1],[1,0,1],[1,1,1]]\n",
    "\n",
    "def checkfxn (inp,ws):\n",
    "    layer1 = [(1 if (np.dot(inp,ws['or'])> 0) else 0),(1 if (np.dot(inp,ws['nand'])>0) else 0)]\n",
    "    layer1.append(1)\n",
    "    print(layer1)\n",
    "    return(1 if (np.dot(layer1, ws['and']) > 0) else 0)\n",
    "    \n",
    "for i in inputs:\n",
    "    print(checkfxn(i,wdict))\n"
   ]
  },
  {
   "cell_type": "code",
   "execution_count": null,
   "metadata": {},
   "outputs": [],
   "source": []
  }
 ],
 "metadata": {
  "interpreter": {
   "hash": "0d80c7f28f4f6cea32d93b0f3d704a134e94e9b960d64132dac5f58c3a699e4d"
  },
  "kernelspec": {
   "display_name": "Python 3.8.8 64-bit ('base': conda)",
   "name": "python3"
  },
  "language_info": {
   "codemirror_mode": {
    "name": "ipython",
    "version": 3
   },
   "file_extension": ".py",
   "mimetype": "text/x-python",
   "name": "python",
   "nbconvert_exporter": "python",
   "pygments_lexer": "ipython3",
   "version": "3.8.8"
  },
  "orig_nbformat": 4
 },
 "nbformat": 4,
 "nbformat_minor": 2
}