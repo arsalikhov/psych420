{
 "cells": [
  {
   "cell_type": "code",
   "execution_count": 2,
   "metadata": {},
   "outputs": [],
   "source": [
    "import matplotlib.pyplot as plt\n",
    "from math import exp"
   ]
  },
  {
   "cell_type": "code",
   "execution_count": 8,
   "metadata": {},
   "outputs": [],
   "source": [
    "class neuron:\n",
    "    def __init__(self):\n",
    "        self.dt = 0.05\n",
    "        self.dt = 0.05\n",
    "        self.max_t = 10\n",
    "        self.init_t = 0.0\n",
    "        self.start_time = 1.0\n",
    "        self.stop_time = 6.0\n",
    "        self.cap = 1\n",
    "        self.res = 2\n",
    "        self.threshold = 3.0\n",
    "        self.spike_display = 8.0\n",
    "        self.init_v = 0.0\n",
    "        self.voltage = self.init_v\n",
    "        self.tau = self.res * self.cap\n",
    "        self.ena = 115.0\n",
    "        self.gna = 120.0\n",
    "        self.ek = -12.0\n",
    "        self.gk = 36.0\n",
    "        self.el = 10.6\n",
    "        self.gl = 0.30\n",
    "\n",
    "    def alpha_n(self, volt):\n",
    "        return((0.1 - (0.01 * volt))/((exp(1 - (0.1 * volt)) - 1.0)))\n",
    "    def alpha_m(self, volt):\n",
    "        return((2.5 - (0.1 * volt))/((exp(2.5 - (0.1 * volt)) - 1.0)))\n",
    "    def alpha_h(self, volt):\n",
    "        return(0.07 * (exp((-1.0 * volt)/20.0)))\n",
    "    def beta_n(self, volt):\n",
    "        return(0.125 * (exp((-1.0 * volt)/80.0)))\n",
    "    def beta_m(self, volt):\n",
    "        return(4.0 * (exp((-1.0 * volt)/18.0)))\n",
    "    def beta_h(self, volt):\n",
    "        return((1.0)/((exp(3.0 - (0.1 * volt)) + 1.0)))\n",
    "\n",
    "    def m_dot(self, volt, m):\n",
    "        return(((self.alpha_m(volt))*(1 - m))-((self.beta_m(volt))*(m)))\n",
    "    def n_dot(self, volt, n):\n",
    "        return(((self.alpha_n(volt))*(1 - n))-((self.beta_n(volt))*(n)))\n",
    "    def h_dot(self, volt, h):\n",
    "        return(((self.alpha_h(volt))*(1 - h))-((self.beta_h(volt))*(h)))\n",
    "    def m_infinity(self, volt):\n",
    "        return(self.alpha_m(volt)/((self.alpha_m(volt) + self.beta_m(volt))))\n",
    "    def n_infinity(self, volt):\n",
    "        return(self.alpha_n(volt)/((self.alpha_n(volt) + self.beta_n(volt))))\n",
    "    def h_infinity(self, volt):\n",
    "        return(self.alpha_h(volt)/((self.alpha_h(volt) + self.beta_h(volt))))\n",
    "\n",
    "    \n"
   ]
  },
  {
   "cell_type": "code",
   "execution_count": null,
   "metadata": {},
   "outputs": [],
   "source": []
  },
  {
   "cell_type": "code",
   "execution_count": null,
   "metadata": {},
   "outputs": [],
   "source": []
  }
 ],
 "metadata": {
  "interpreter": {
   "hash": "31f2aee4e71d21fbe5cf8b01ff0e069b9275f58929596ceb00d14d90e3e16cd6"
  },
  "kernelspec": {
   "display_name": "Python 3.8.2 64-bit",
   "name": "python3"
  },
  "language_info": {
   "codemirror_mode": {
    "name": "ipython",
    "version": 3
   },
   "file_extension": ".py",
   "mimetype": "text/x-python",
   "name": "python",
   "nbconvert_exporter": "python",
   "pygments_lexer": "ipython3",
   "version": "3.8.8"
  },
  "orig_nbformat": 4
 },
 "nbformat": 4,
 "nbformat_minor": 2
}