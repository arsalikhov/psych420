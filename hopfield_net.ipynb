{
 "cells": [
  {
   "cell_type": "markdown",
   "metadata": {},
   "source": [
    "Homework Assignment:\n",
    "TL:DR Create a random data set of input patterns, generate the weights necessary to properly decode the inputs, show the code for their computation, and then demonstrate with at least one example that the network is robust to some noise.\n",
    "\n",
    "More detailed:\n",
    "1. Make the input patterns 2-d, square and of size \"n\".\n",
    "2. Use a bipolar system and have, roughly, equal numbers of +1s and -1s in your patterns\n",
    "3. Make a few of them and store them in some sort of data structure.\n",
    "4. Using those patterns compute the weight matrix with the following equation:\n",
    "$$ w_{ij} =\\frac{1}{N} \\sum_{\\mu} value^\\mu_i \\times value^\\mu_j$$\n",
    "Where N is the size of the patters, that is how many \"neurons\". $\\mu$ is an index for each of the patterns, and $i$ and $j$ refer to the neurons in the pattern $\\mu$. Do this **in code**. The computer is good for this manual, repetitive sort of stuff.\n",
    "\n",
    "5. Program an asynchronous updating rule, run your network until it stablelizes, and then show that you get back what you put in.\n",
    "6. Then do the same for at least one disrupted pattern (where you flipped a couple of bits around.)"
   ]
  },
  {
   "cell_type": "code",
   "execution_count": 3,
   "metadata": {},
   "outputs": [],
   "source": [
    "%matplotlib inline\n",
    "import matplotlib.pyplot as plt\n",
    "import numpy as np\n",
    "import random "
   ]
  },
  {
   "cell_type": "code",
   "execution_count": 4,
   "metadata": {},
   "outputs": [],
   "source": [
    "def patternSizeGenerator():\n",
    "    N = random.randint(5, 21)\n",
    "    SIZE = np.repeat(random.randint(3,6),2)\n",
    "    return N, SIZE\n",
    "\n",
    "N, SIZE = patternSizeGenerator()"
   ]
  },
  {
   "cell_type": "code",
   "execution_count": 5,
   "metadata": {},
   "outputs": [],
   "source": [
    "def MakePatterns(ps, psize):\n",
    "    patterns = []\n",
    "    for n in range(ps):\n",
    "        tobepatt = np.random.normal(0, 1, size = psize)\n",
    "        for i in range(len(tobepatt)):\n",
    "            for j in range(len(tobepatt)):\n",
    "                if tobepatt[i][j] <= 0:\n",
    "                    tobepatt[i][j] = -1\n",
    "                elif tobepatt[i][j] > 0:\n",
    "                    tobepatt[i][j] = 1\n",
    "        patterns.append(tobepatt)\n",
    "    return patterns"
   ]
  },
  {
   "cell_type": "code",
   "execution_count": 6,
   "metadata": {},
   "outputs": [],
   "source": [
    "def MakeWeights(patterns):\n",
    "    w = np.zeros(list(map((lambda x: x**2),patterns[0].shape)))\n",
    "    for p in patterns:\n",
    "        w = (1.0/p.size)*(w + np.outer(p,p))\n",
    "    np.fill_diagonal(w,0)\n",
    "    return w"
   ]
  },
  {
   "cell_type": "code",
   "execution_count": 7,
   "metadata": {},
   "outputs": [],
   "source": [
    "def hopfieldLoop(inPattern,weights):\n",
    "    while True:\n",
    "        rows = list(range(inPattern.shape[0]))\n",
    "        columns = list(range(inPattern.shape[1]))\n",
    "        random.shuffle(rows)\n",
    "        random.shuffle(columns)\n",
    "        testpatt = inPattern\n",
    "        for i in rows:\n",
    "            for j in columns:\n",
    "                inPattern[i][j] = 1.0 if ((np.reshape(inPattern,(1,inPattern.size))\n",
    "                                        @ weights[i]) * inPattern[i][j]) > 0 else -1\n",
    "        if (np.all(testpatt == inPattern)): break\n",
    "    return(inPattern)"
   ]
  },
  {
   "cell_type": "code",
   "execution_count": 8,
   "metadata": {},
   "outputs": [
    {
     "data": {
      "text/plain": [
       "<matplotlib.image.AxesImage at 0x7fb6c513f880>"
      ]
     },
     "execution_count": 8,
     "metadata": {},
     "output_type": "execute_result"
    },
    {
     "data": {
      "image/png": "[encoded data removed]",
      "text/plain": [
       "<Figure size 432x288 with 1 Axes>"
      ]
     },
     "metadata": {
      "needs_background": "light"
     },
     "output_type": "display_data"
    }
   ],
   "source": [
    "N, SIZE = patternSizeGenerator()\n",
    "patterns = MakePatterns(N, SIZE)\n",
    "w = MakeWeights(patterns)\n",
    "plt.imshow(w)\n"
   ]
  },
  {
   "cell_type": "code",
   "execution_count": 9,
   "metadata": {},
   "outputs": [],
   "source": [
    "def hopPlot(ins,outs): \n",
    "    r = len(ins)\n",
    "    c = 3\n",
    "    pltcntr = 1\n",
    "    for i in range(r):\n",
    "        plt.subplot(r,3,pltcntr)\n",
    "        plt.imshow(ins[i])\n",
    "        plt.subplot(r,3,(pltcntr+1))\n",
    "        plt.imshow(outs[i])\n",
    "        plt.subplot(r,3,(pltcntr+2))\n",
    "        plt.imshow(ins[i]-outs[i])\n",
    "        pltcntr = pltcntr+3\n",
    "    return(plt)"
   ]
  },
  {
   "cell_type": "code",
   "execution_count": 10,
   "metadata": {},
   "outputs": [],
   "source": [
    "myn,mysz = patternSizeGenerator()\n",
    "myps = MakePatterns(myn,mysz)\n",
    "w = MakeWeights(myps)\n",
    "outps = []\n",
    "for inp in myps:\n",
    "    op = hopfieldLoop(inp,w)\n",
    "    outps.append(op)"
   ]
  },
  {
   "cell_type": "code",
   "execution_count": 11,
   "metadata": {},
   "outputs": [
    {
     "data": {
      "image/png": "[encoded data removed]",
      "text/plain": [
       "<Figure size 432x288 with 39 Axes>"
      ]
     },
     "metadata": {
      "needs_background": "light"
     },
     "output_type": "display_data"
    }
   ],
   "source": [
    "myp = hopPlot(myps,outps)"
   ]
  },
  {
   "cell_type": "code",
   "execution_count": null,
   "metadata": {},
   "outputs": [],
   "source": []
  }
 ],
 "metadata": {
  "interpreter": {
   "hash": "0d80c7f28f4f6cea32d93b0f3d704a134e94e9b960d64132dac5f58c3a699e4d"
  },
  "kernelspec": {
   "display_name": "Python 3.8.8 64-bit ('base': conda)",
   "name": "python3"
  },
  "language_info": {
   "codemirror_mode": {
    "name": "ipython",
    "version": 3
   },
   "file_extension": ".py",
   "mimetype": "text/x-python",
   "name": "python",
   "nbconvert_exporter": "python",
   "pygments_lexer": "ipython3",
   "version": "3.8.8"
  },
  "orig_nbformat": 4
 },
 "nbformat": 4,
 "nbformat_minor": 2
}
